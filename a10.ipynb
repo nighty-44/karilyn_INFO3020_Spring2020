{
  "nbformat": 4,
  "nbformat_minor": 0,
  "metadata": {
    "colab": {
      "name": "a10.ipynb",
      "provenance": [],
      "authorship_tag": "ABX9TyNh1gL7tfjWf1Pmqs8ALeB7",
      "include_colab_link": true
    },
    "kernelspec": {
      "name": "python3",
      "display_name": "Python 3"
    }
  },
  "cells": [
    {
      "cell_type": "markdown",
      "metadata": {
        "id": "view-in-github",
        "colab_type": "text"
      },
      "source": [
        "<a href=\"https://colab.research.google.com/github/nighty-44/karilyn_INFO3020_Spring2020/blob/master/a10.ipynb\" target=\"_parent\"><img src=\"https://colab.research.google.com/assets/colab-badge.svg\" alt=\"Open In Colab\"/></a>"
      ]
    },
    {
      "cell_type": "markdown",
      "metadata": {
        "id": "RcFqINw-xFMS",
        "colab_type": "text"
      },
      "source": [
        "# Problem 1"
      ]
    },
    {
      "cell_type": "markdown",
      "metadata": {
        "id": "FvPm0ZFBxIvl",
        "colab_type": "text"
      },
      "source": [
        "Create a tsudent table in MySQL database, the requirements are as follows:\n",
        "\n",
        "1) The table should contain at least 6 columns, fave of them must be {stuid, stuname, major, stuyear, tuition}\n",
        "\n",
        "2) Use the correct data type to define your columns\n",
        "\n",
        "3) Export the database as a .sql file"
      ]
    },
    {
      "cell_type": "code",
      "metadata": {
        "id": "KuFdzyz7tHbF",
        "colab_type": "code",
        "colab": {}
      },
      "source": [
        "import pymysql\n",
        "\n",
        "studb=pymysql.connect(\"localhost\",\"root\",\"n!ghty01\",\"studb\")\n",
        "stucursor=studb.cursor()\n",
        "stucursor.execute(\"select version()\")\n",
        "sql=\"select * from tstudent\"\n",
        "\n",
        "command=stucursor.execute(sql)\n",
        "results=stucursor.fetchall()\n",
        "print(\"tstuid \\t tstuname \\t tmajor \\t tstuyear \\t ttuition \\t tcollege\")\n",
        "stucursor.close()\n",
        "results=\"\"\n",
        "studb.close()\n"
      ],
      "execution_count": 0,
      "outputs": []
    },
    {
      "cell_type": "markdown",
      "metadata": {
        "id": "lsSMJLG5x4E5",
        "colab_type": "text"
      },
      "source": [
        "# Problem 2"
      ]
    },
    {
      "cell_type": "markdown",
      "metadata": {
        "id": "stRD6DKWx641",
        "colab_type": "text"
      },
      "source": [
        "Given a sql file \"world.sql,\" complete the following tasks:\n",
        "\n",
        "1) Import the file into your MySQL Server\n",
        "\n",
        "2) Write a function which could retrieve all the data from the table \"country\" in database \"world\"\n",
        "\n",
        "3) Write a function which could retrieve one record from the table \"country\" by a specific parameter which is related to the field \"Name\""
      ]
    },
    {
      "cell_type": "code",
      "metadata": {
        "id": "imWYGbTGx79L",
        "colab_type": "code",
        "colab": {}
      },
      "source": [
        "import pymysql\n",
        "\n",
        "world = pymysql.connect(\"localhost\", \"root\", \"n!ghty01\", \"world\")\n",
        "worldcursor = world.cursor()\n",
        "\n",
        "sqlA = \"select * from country\"\n",
        "commandA = worldcursor.execute(sqlA)\n",
        "resultA = worldcursor.fetchall()\n",
        "print(resultA)\n",
        "print(\"~~~~~~~~~~~~~~~~~~~~~~~~~~~~~~~~~~~~~~~~~~~~\")\n",
        "\n",
        "sqlB = \"select Name from country\"\n",
        "\n",
        "command = worldcursor.execute(sqlB)\n",
        "resultB = worldcursor.fetchall()\n",
        "print(resultB)\n",
        "\n",
        "\n",
        "worldcursor.close()\n",
        "resultA = \"\"\n",
        "resultB = \"\"\n",
        "world.close()\n"
      ],
      "execution_count": 0,
      "outputs": []
    }
  ]
}