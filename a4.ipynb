{
  "nbformat": 4,
  "nbformat_minor": 0,
  "metadata": {
    "colab": {
      "name": "a4.ipynb",
      "provenance": [],
      "authorship_tag": "ABX9TyN3UxjS9DSsO686zYsC0tTI",
      "include_colab_link": true
    },
    "kernelspec": {
      "name": "python3",
      "display_name": "Python 3"
    }
  },
  "cells": [
    {
      "cell_type": "markdown",
      "metadata": {
        "id": "view-in-github",
        "colab_type": "text"
      },
      "source": [
        "<a href=\"https://colab.research.google.com/github/nighty-44/karilyn_INFO3020_Spring2020/blob/master/a4.ipynb\" target=\"_parent\"><img src=\"https://colab.research.google.com/assets/colab-badge.svg\" alt=\"Open In Colab\"/></a>"
      ]
    },
    {
      "cell_type": "markdown",
      "metadata": {
        "id": "Poy4aWGO7DkP",
        "colab_type": "text"
      },
      "source": [
        "# Turtle Shape within Shape"
      ]
    },
    {
      "cell_type": "code",
      "metadata": {
        "id": "4Zlw-bWM7Hqs",
        "colab_type": "code",
        "colab": {}
      },
      "source": [
        "import turtle\n",
        "def draw_circle(animal, size):\n",
        "    for i in range(8):\n",
        "        animal.circle(15*i)\n",
        "        animal.up()\n",
        "        animal.sety((15*i)*(-1))\n",
        "        animal.down()\n",
        "\n",
        "window = turtle.Screen()\n",
        "lizzy = turtle.Turtle()\n",
        "lizzy.width(5)\n",
        "draw_circle(lizzy, 70)\n",
        "\n",
        "window.mainloop()"
      ],
      "execution_count": 0,
      "outputs": []
    },
    {
      "cell_type": "markdown",
      "metadata": {
        "id": "Vyt1TW407Il1",
        "colab_type": "text"
      },
      "source": [
        "# Turtle Maze"
      ]
    },
    {
      "cell_type": "code",
      "metadata": {
        "id": "_cDJnAQnBGUe",
        "colab_type": "code",
        "colab": {}
      },
      "source": [
        "import turtle\n",
        "def maze(animal, size):\n",
        "    for i in range(30):\n",
        "        animal.forward(1.5*i)\n",
        "        animal.left(60)\n",
        "\n",
        "window = turtle.Screen()\n",
        "fred = turtle.Turtle()\n",
        "fred.pencolor(\"pink\")\n",
        "fred.width(3)\n",
        "maze(fred, 25)\n",
        "\n",
        "window.mainloop()"
      ],
      "execution_count": 0,
      "outputs": []
    },
    {
      "cell_type": "markdown",
      "metadata": {
        "id": "X8gHh_ymcmWX",
        "colab_type": "text"
      },
      "source": [
        "# Problem 1"
      ]
    },
    {
      "cell_type": "markdown",
      "metadata": {
        "id": "V8QmpF7PcqGj",
        "colab_type": "text"
      },
      "source": [
        "Write a function which could return the file name’s extend name. It accepts one argument. If the argument is not a valid file name,it should return it is a invalid filename."
      ]
    },
    {
      "cell_type": "code",
      "metadata": {
        "id": "0iJTokrDchyP",
        "colab_type": "code",
        "colab": {}
      },
      "source": [
        "arg = input(\"file name and extension type: \")\n",
        "varA = arg.split(\".\")\n",
        "\n",
        "print (varA)\n",
        "\n"
      ],
      "execution_count": 0,
      "outputs": []
    },
    {
      "cell_type": "markdown",
      "metadata": {
        "id": "MF1BprAUck3k",
        "colab_type": "text"
      },
      "source": [
        "# Problem 2"
      ]
    },
    {
      "cell_type": "markdown",
      "metadata": {
        "id": "BlC15MLQdf8j",
        "colab_type": "text"
      },
      "source": [
        "Write a function replace(s,old,new)that replaces all occurrences of the old character with a new character in a strings."
      ]
    },
    {
      "cell_type": "code",
      "metadata": {
        "id": "wzi2virGeRnB",
        "colab_type": "code",
        "colab": {}
      },
      "source": [
        "def replace(text, old, new):\n",
        "    sent = \"\"\n",
        "    #old(\"hello world\")\n",
        "    for letter in text:\n",
        "        if letter == old:\n",
        "            sent=sent+new\n",
        "        elif letter!=old:\n",
        "            sent=sent+letter\n",
        "    return(sent)\n",
        "print (replace(\"goodbye moon\", \"o\", \"q\"))"
      ],
      "execution_count": 0,
      "outputs": []
    }
  ]
}