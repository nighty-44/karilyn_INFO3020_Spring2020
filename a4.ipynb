{
  "nbformat": 4,
  "nbformat_minor": 0,
  "metadata": {
    "colab": {
      "name": "a4.ipynb",
      "provenance": [],
      "authorship_tag": "ABX9TyOBncGe1kV8kIzqliLEMvEA",
      "include_colab_link": true
    },
    "kernelspec": {
      "name": "python3",
      "display_name": "Python 3"
    }
  },
  "cells": [
    {
      "cell_type": "markdown",
      "metadata": {
        "id": "view-in-github",
        "colab_type": "text"
      },
      "source": [
        "<a href=\"https://colab.research.google.com/github/nighty-44/karilyn_INFO3020_Spring2020/blob/master/a4.ipynb\" target=\"_parent\"><img src=\"https://colab.research.google.com/assets/colab-badge.svg\" alt=\"Open In Colab\"/></a>"
      ]
    },
    {
      "cell_type": "markdown",
      "metadata": {
        "id": "X8gHh_ymcmWX",
        "colab_type": "text"
      },
      "source": [
        "# Problem 1"
      ]
    },
    {
      "cell_type": "markdown",
      "metadata": {
        "id": "V8QmpF7PcqGj",
        "colab_type": "text"
      },
      "source": [
        "Write a function which could return the file name’s extend name. It accepts one argument. If the argument is not a valid file name,it should return it is a invalid filename."
      ]
    },
    {
      "cell_type": "code",
      "metadata": {
        "id": "0iJTokrDchyP",
        "colab_type": "code",
        "colab": {}
      },
      "source": [
        "arg = input(\"file name and extension type: \")\n",
        "varA = arg.split(\".\")\n",
        "\n",
        "print (varA)\n",
        "\n"
      ],
      "execution_count": 0,
      "outputs": []
    },
    {
      "cell_type": "markdown",
      "metadata": {
        "id": "MF1BprAUck3k",
        "colab_type": "text"
      },
      "source": [
        "# Problem 2"
      ]
    },
    {
      "cell_type": "markdown",
      "metadata": {
        "id": "BlC15MLQdf8j",
        "colab_type": "text"
      },
      "source": [
        "Write a function replace(s,old,new)that replaces all occurrences of the old character with a new character in a strings."
      ]
    },
    {
      "cell_type": "code",
      "metadata": {
        "id": "wzi2virGeRnB",
        "colab_type": "code",
        "colab": {}
      },
      "source": [
        "def replace(text, old, new):\n",
        "    sent = \"\"\n",
        "    #old(\"hello world\")\n",
        "    for letter in text:\n",
        "        if letter == old:\n",
        "            sent=sent+new\n",
        "        elif letter!=old:\n",
        "            sent=sent+letter\n",
        "    return(sent)\n",
        "print (replace(\"goodbye moon\", \"o\", \"q\"))"
      ],
      "execution_count": 0,
      "outputs": []
    },
    {
      "cell_type": "markdown",
      "metadata": {
        "id": "KDah63nYGtlp",
        "colab_type": "text"
      },
      "source": [
        "# the slides never updated so I made a maze and a graphic with turtles"
      ]
    },
    {
      "cell_type": "markdown",
      "metadata": {
        "id": "Poy4aWGO7DkP",
        "colab_type": "text"
      },
      "source": [
        "# Turtle Graphic"
      ]
    },
    {
      "cell_type": "code",
      "metadata": {
        "id": "4Zlw-bWM7Hqs",
        "colab_type": "code",
        "colab": {}
      },
      "source": [
        "import turtle\n",
        "window = turtle.Screen()\n",
        "lizzy = turtle.Turtle()\n",
        "lizzy.color(\"red\")\n",
        "lizzy.speed(0)\n",
        "for i in range(120):\n",
        "    lizzy.circle(i*6)\n",
        "    lizzy.right(20)\n",
        "\n",
        "window.mainloop()"
      ],
      "execution_count": 0,
      "outputs": []
    },
    {
      "cell_type": "markdown",
      "metadata": {
        "id": "Vyt1TW407Il1",
        "colab_type": "text"
      },
      "source": [
        "# Turtle Maze"
      ]
    },
    {
      "cell_type": "code",
      "metadata": {
        "id": "_cDJnAQnBGUe",
        "colab_type": "code",
        "colab": {}
      },
      "source": [
        "import turtle\n",
        "window = turtle.Screen()\n",
        "fred = turtle.Turtle()\n",
        "fred.pencolor(\"pink\")\n",
        "fred.width(4)\n",
        "for i in range(50):\n",
        "    fred.forward(3*i)\n",
        "    fred.right(60)\n",
        "\n",
        "\n",
        "window.mainloop()"
      ],
      "execution_count": 0,
      "outputs": []
    }
  ]
}