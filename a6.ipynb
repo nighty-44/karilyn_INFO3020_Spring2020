{
  "nbformat": 4,
  "nbformat_minor": 0,
  "metadata": {
    "colab": {
      "name": "a6.ipynb",
      "provenance": [],
      "collapsed_sections": [
        "ClMmolqwe2XV"
      ],
      "authorship_tag": "ABX9TyMGhGjQT/y+DZZI1E+phDaj",
      "include_colab_link": true
    },
    "kernelspec": {
      "name": "python3",
      "display_name": "Python 3"
    }
  },
  "cells": [
    {
      "cell_type": "markdown",
      "metadata": {
        "id": "view-in-github",
        "colab_type": "text"
      },
      "source": [
        "<a href=\"https://colab.research.google.com/github/nighty-44/karilyn_INFO3020_Spring2020/blob/master/a6.ipynb\" target=\"_parent\"><img src=\"https://colab.research.google.com/assets/colab-badge.svg\" alt=\"Open In Colab\"/></a>"
      ]
    },
    {
      "cell_type": "markdown",
      "metadata": {
        "id": "OeimFxo0eIzG",
        "colab_type": "text"
      },
      "source": [
        "#P1"
      ]
    },
    {
      "cell_type": "markdown",
      "metadata": {
        "id": "CNtKJb2FeMY3",
        "colab_type": "text"
      },
      "source": [
        "Write a function to write several numbers in one line (at least 10 numbers) into a txt file. Then write another function to read the several numbers and turn them into an array, and use a mask to set all values above 100 (half of your number should exceed over 100) to be 100 and store the result into another txt file.\n",
        "\n",
        "\n",
        "---\n",
        "\n",
        "\n",
        "Tips: map(int,list)\n",
        "could turn a string list to a int list."
      ]
    },
    {
      "cell_type": "code",
      "metadata": {
        "id": "U3oSoPVVXhCL",
        "colab_type": "code",
        "colab": {}
      },
      "source": [
        "import numpy as np\n",
        "#reads num list as tuple for no reason so this is what I got with what I could do\n",
        "#numpy did not exist on my pycharm as well\n",
        "\n",
        "num = (900 , 500 , 404 , 9 , 2 , 1 , 7 , 3 , 660 , 700)\n",
        "with open(\"numA.txt\", \"w\") as fun:\n",
        "  x = fun.write(str(num))\n",
        "\n",
        "with open(\"numA.txt\", \"r\") as fun1:\n",
        "  x1 = fun1.readlines()\n",
        "  arr = np.array(num)\n",
        "  print (x1)\n",
        "  #map(int,arr)\n",
        "\n",
        "with open(\"numB.txt\", \"w\") as mask:\n",
        "  minimum = 100\n",
        "  arr = np.array(num)\n",
        "  arr = map(int,list)\n",
        "  arr[arr>minimum]=100\n",
        "  m = mask.write(arr)\n",
        "\n",
        "\n",
        "\n"
      ],
      "execution_count": 0,
      "outputs": []
    },
    {
      "cell_type": "markdown",
      "metadata": {
        "id": "ClMmolqwe2XV",
        "colab_type": "text"
      },
      "source": [
        "#P2"
      ]
    },
    {
      "cell_type": "markdown",
      "metadata": {
        "id": "TuGmMMa_e4nH",
        "colab_type": "text"
      },
      "source": [
        "Use tuple to design a student list which at least has the structure of student id and student name, write a function to write all the students into a txt file and one line for one student. \n",
        "\n",
        "---\n",
        "You should store at least 10 students. The student id and name can be set by yourself. Then write another function to read the txt file and can get the student (with id and name) randomly. It looks like random roll call in a class."
      ]
    },
    {
      "cell_type": "code",
      "metadata": {
        "id": "PA8JAPrDftaO",
        "colab_type": "code",
        "colab": {
          "base_uri": "https://localhost:8080/",
          "height": 252
        },
        "outputId": "3006bde6-c5bc-4b71-f715-b3e670ad4808"
      },
      "source": [
        "import random\n",
        "file_roll = open(\"roll.txt\",\"w\")\n",
        "rollcall = ((\"Suzie\", \"2228; \"), (\"Lily\", \"3939; \"), (\"Walter, 4952; \"), (\"Emmett, 9632; \"), (\"Tina, 3990; \"), (\"Emmie, 3451; \"), (\"Kev, 1941; \"), (\"Paulie, 0451; \"), (\"Willie, 4580; \"), (\"Paula, 5871\"))\n",
        "str= ' '.join(rollcall)\n",
        "file_roll.writelines(str)\n",
        "file_roll.close()\n",
        "file_roll = open(\"roll.txt\", \"r\")\n",
        "\n",
        "print (random.choice(file_roll.read()))"
      ],
      "execution_count": 72,
      "outputs": [
        {
          "output_type": "error",
          "ename": "TypeError",
          "evalue": "ignored",
          "traceback": [
            "\u001b[0;31m---------------------------------------------------------------------------\u001b[0m",
            "\u001b[0;31mTypeError\u001b[0m                                 Traceback (most recent call last)",
            "\u001b[0;32m<ipython-input-72-eaab72d8b6b9>\u001b[0m in \u001b[0;36m<module>\u001b[0;34m()\u001b[0m\n\u001b[1;32m      2\u001b[0m \u001b[0mfile_roll\u001b[0m \u001b[0;34m=\u001b[0m \u001b[0mopen\u001b[0m\u001b[0;34m(\u001b[0m\u001b[0;34m\"roll.txt\"\u001b[0m\u001b[0;34m,\u001b[0m\u001b[0;34m\"w\"\u001b[0m\u001b[0;34m)\u001b[0m\u001b[0;34m\u001b[0m\u001b[0;34m\u001b[0m\u001b[0m\n\u001b[1;32m      3\u001b[0m \u001b[0mrollcall\u001b[0m \u001b[0;34m=\u001b[0m \u001b[0;34m(\u001b[0m\u001b[0;34m(\u001b[0m\u001b[0;34m\"Suzie\"\u001b[0m\u001b[0;34m,\u001b[0m \u001b[0;34m\"2228; \"\u001b[0m\u001b[0;34m)\u001b[0m\u001b[0;34m,\u001b[0m \u001b[0;34m(\u001b[0m\u001b[0;34m\"Lily\"\u001b[0m\u001b[0;34m,\u001b[0m \u001b[0;34m\"3939; \"\u001b[0m\u001b[0;34m)\u001b[0m\u001b[0;34m,\u001b[0m \u001b[0;34m(\u001b[0m\u001b[0;34m\"Walter, 4952; \"\u001b[0m\u001b[0;34m)\u001b[0m\u001b[0;34m,\u001b[0m \u001b[0;34m(\u001b[0m\u001b[0;34m\"Emmett, 9632; \"\u001b[0m\u001b[0;34m)\u001b[0m\u001b[0;34m,\u001b[0m \u001b[0;34m(\u001b[0m\u001b[0;34m\"Tina, 3990; \"\u001b[0m\u001b[0;34m)\u001b[0m\u001b[0;34m,\u001b[0m \u001b[0;34m(\u001b[0m\u001b[0;34m\"Emmie, 3451; \"\u001b[0m\u001b[0;34m)\u001b[0m\u001b[0;34m,\u001b[0m \u001b[0;34m(\u001b[0m\u001b[0;34m\"Kev, 1941; \"\u001b[0m\u001b[0;34m)\u001b[0m\u001b[0;34m,\u001b[0m \u001b[0;34m(\u001b[0m\u001b[0;34m\"Paulie, 0451; \"\u001b[0m\u001b[0;34m)\u001b[0m\u001b[0;34m,\u001b[0m \u001b[0;34m(\u001b[0m\u001b[0;34m\"Willie, 4580; \"\u001b[0m\u001b[0;34m)\u001b[0m\u001b[0;34m,\u001b[0m \u001b[0;34m(\u001b[0m\u001b[0;34m\"Paula, 5871\"\u001b[0m\u001b[0;34m)\u001b[0m\u001b[0;34m)\u001b[0m\u001b[0;34m\u001b[0m\u001b[0;34m\u001b[0m\u001b[0m\n\u001b[0;32m----> 4\u001b[0;31m \u001b[0mstr\u001b[0m\u001b[0;34m=\u001b[0m \u001b[0;34m' '\u001b[0m\u001b[0;34m.\u001b[0m\u001b[0mjoin\u001b[0m\u001b[0;34m(\u001b[0m\u001b[0mrollcall\u001b[0m\u001b[0;34m)\u001b[0m\u001b[0;34m\u001b[0m\u001b[0;34m\u001b[0m\u001b[0m\n\u001b[0m\u001b[1;32m      5\u001b[0m \u001b[0mfile_roll\u001b[0m\u001b[0;34m.\u001b[0m\u001b[0mwritelines\u001b[0m\u001b[0;34m(\u001b[0m\u001b[0mstr\u001b[0m\u001b[0;34m)\u001b[0m\u001b[0;34m\u001b[0m\u001b[0;34m\u001b[0m\u001b[0m\n\u001b[1;32m      6\u001b[0m \u001b[0mfile_roll\u001b[0m\u001b[0;34m.\u001b[0m\u001b[0mclose\u001b[0m\u001b[0;34m(\u001b[0m\u001b[0;34m)\u001b[0m\u001b[0;34m\u001b[0m\u001b[0;34m\u001b[0m\u001b[0m\n",
            "\u001b[0;31mTypeError\u001b[0m: sequence item 0: expected str instance, tuple found"
          ]
        }
      ]
    }
  ]
}