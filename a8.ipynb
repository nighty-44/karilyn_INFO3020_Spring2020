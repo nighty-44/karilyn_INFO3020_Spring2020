{
  "nbformat": 4,
  "nbformat_minor": 0,
  "metadata": {
    "colab": {
      "name": "a8.ipynb",
      "provenance": [],
      "authorship_tag": "ABX9TyOxYb8t8IvIzXvSPQVeSnZp",
      "include_colab_link": true
    },
    "kernelspec": {
      "name": "python3",
      "display_name": "Python 3"
    }
  },
  "cells": [
    {
      "cell_type": "markdown",
      "metadata": {
        "id": "view-in-github",
        "colab_type": "text"
      },
      "source": [
        "<a href=\"https://colab.research.google.com/github/nighty-44/karilyn_INFO3020_Spring2020/blob/master/a8.ipynb\" target=\"_parent\"><img src=\"https://colab.research.google.com/assets/colab-badge.svg\" alt=\"Open In Colab\"/></a>"
      ]
    },
    {
      "cell_type": "markdown",
      "metadata": {
        "id": "xn2fqWLNMGlQ",
        "colab_type": "text"
      },
      "source": [
        "# Problem 1"
      ]
    },
    {
      "cell_type": "markdown",
      "metadata": {
        "id": "fJzorxh9MORr",
        "colab_type": "text"
      },
      "source": [
        "Rewrite the distance function from the chapter 4 titled Fruitful functions so that it takes two Points as parameters instead of four numbers."
      ]
    },
    {
      "cell_type": "code",
      "metadata": {
        "id": "LWb5ZrPkMDf2",
        "colab_type": "code",
        "colab": {}
      },
      "source": [
        "import math\n",
        "\n",
        "def dist(p1=({0},{1}), p2=({2},{3})):\n",
        "  deltaX=p2[0]-p1[0]\n",
        "  deltaY=p2[1]-p1[1]\n",
        "  return math.sqrt(deltaX**2+deltaY**2)\n",
        "\n",
        "\n",
        "print (dist(p1=(1,3),p2=(4,19)))\n"
      ],
      "execution_count": 0,
      "outputs": []
    },
    {
      "cell_type": "markdown",
      "metadata": {
        "id": "Iw8ZiffOMRZp",
        "colab_type": "text"
      },
      "source": [
        "# Problem 2"
      ]
    },
    {
      "cell_type": "markdown",
      "metadata": {
        "id": "5Gg1R5pKMT7n",
        "colab_type": "text"
      },
      "source": [
        "Add a method reflect_x to Point which returns a new Point, one which is the reflection of the point about the x-axis. i.e. The reflect x of Point (3,4) is (3,-4)."
      ]
    },
    {
      "cell_type": "code",
      "metadata": {
        "id": "eOt1S8Q8MXK8",
        "colab_type": "code",
        "colab": {}
      },
      "source": [
        "class Point:\n",
        "  def __init__(self, x=0, y=0):\n",
        "    self.x=x\n",
        "    self.y=y\n",
        "\n",
        "  def reflect_x(self):\n",
        "    return \"({0},-{1})\".format(self.x,self.y)\n",
        "r = Point(4,9)\n",
        "\n",
        "print(\"the reflection on the x axis is: \", r.reflect_x())"
      ],
      "execution_count": 0,
      "outputs": []
    },
    {
      "cell_type": "markdown",
      "metadata": {
        "id": "QyMGG862MXnj",
        "colab_type": "text"
      },
      "source": [
        "#  Problem 3"
      ]
    },
    {
      "cell_type": "markdown",
      "metadata": {
        "id": "EY_Q33UvMchu",
        "colab_type": "text"
      },
      "source": [
        "Add a method area to the Rectangle class that returns the area of any instance. "
      ]
    },
    {
      "cell_type": "code",
      "metadata": {
        "id": "BQU6VlTGMtfX",
        "colab_type": "code",
        "colab": {}
      },
      "source": [
        "class Rectangle:\n",
        "  def __init__(box, length, width):\n",
        "    box.length = le\n",
        "    box.width = wi\n",
        "\n",
        "  def area(box):\n",
        "    return box.length * box.width\n",
        "\n",
        "le = int(input(\"enter length: \"))\n",
        "wi = int(input(\"enter width: \"))\n",
        "ob = Rectangle(le,wi)\n",
        "print(\"area:\", ob.area())"
      ],
      "execution_count": 0,
      "outputs": []
    },
    {
      "cell_type": "markdown",
      "metadata": {
        "id": "6p0GYUWwMuF6",
        "colab_type": "text"
      },
      "source": [
        "# Problem 4"
      ]
    },
    {
      "cell_type": "markdown",
      "metadata": {
        "id": "SNKGJ3KXMxeV",
        "colab_type": "text"
      },
      "source": [
        "Write a flip method in the Rectangle class that swaps the width and height of any rectangle instance."
      ]
    },
    {
      "cell_type": "code",
      "metadata": {
        "id": "UogFtyy8M6O_",
        "colab_type": "code",
        "colab": {}
      },
      "source": [
        "class Point:\n",
        "  def __init__(self,x=0,y=0):\n",
        "    self.x=x\n",
        "    self.y=y\n",
        "  def __str__(self):\n",
        "    return \"({0},{1})\".format(self.x,self.y)\n",
        "\n",
        "class Rectangle:\n",
        "    def __init__(self, posn, w, h):\n",
        "        self.corner = posn\n",
        "        self.width = w\n",
        "        self.height = h\n",
        "\n",
        "    def __str__(self):\n",
        "        return \"({0},{1},{2})\".format(self.corner, self.width, self.height)\n",
        "\n",
        "    def flip(self):\n",
        "      temp = self.width\n",
        "      self.width = self.height\n",
        "      self.height = temp\n",
        "\n",
        "re = Rectangle(Point(5,5), 20, 10)\n",
        "re.flip()\n",
        "print(re.width, re.height)\n",
        "\n"
      ],
      "execution_count": 0,
      "outputs": []
    },
    {
      "cell_type": "markdown",
      "metadata": {
        "id": "dgD1apXYM7Ro",
        "colab_type": "text"
      },
      "source": [
        "# Problem 5"
      ]
    },
    {
      "cell_type": "markdown",
      "metadata": {
        "id": "9_FNfKowM8-b",
        "colab_type": "text"
      },
      "source": [
        "Write a new method in the Rectangle class to test if a Point falls within the rectangle. For this exercise, assume that a rectangle at (0,0) with width 10 and height 5 has open upper bounds on the width and height, i.e. it stretches in the x direction from [0 to 10), where 0 is included but 10 is excluded, and from [0 to 5) in the y direction. So it does not contain the point (10, 2). "
      ]
    },
    {
      "cell_type": "code",
      "metadata": {
        "id": "FdAcHy8CNHkX",
        "colab_type": "code",
        "colab": {}
      },
      "source": [
        "class Point:\n",
        "  def __init__(box,x=0,y=0):\n",
        "    box.x=x\n",
        "    box.y=y\n",
        "  def __str__(box):\n",
        "    return \"({0},{1})\".format(box.x,box.y)\n",
        "\n",
        "class Rectangle:\n",
        "    def __init__(box, posn, w, h):\n",
        "        box.corner = posn\n",
        "        box.width = w\n",
        "        box.height = h\n",
        "\n",
        "    def __str__(box):\n",
        "        return \"({0},{1},{2})\".format(box.corner, box.width, box.height)\n",
        "\n",
        "    def contained(box,point):\n",
        "      x = 0 <= point.x < box.width\n",
        "      y = 0 <= point.y < box.height\n",
        "      return x and y\n",
        "\n",
        "r = Rectangle(Point(0, 0), 10, 5)\n",
        "print(r.contained(Point(0, 0)))\n",
        "print(r.contained(Point(3, 3)))\n",
        "print(r.contained(Point(3, 7)))\n",
        "print(r.contained(Point(3, 5)))\n",
        "print(r.contained(Point(3, 4.99999)))\n",
        "print(r.contained(Point(-3, -3)))\n"
      ],
      "execution_count": 0,
      "outputs": []
    }
  ]
}