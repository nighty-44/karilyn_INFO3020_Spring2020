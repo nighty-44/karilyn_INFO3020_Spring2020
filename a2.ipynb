{
  "nbformat": 4,
  "nbformat_minor": 0,
  "metadata": {
    "colab": {
      "name": "a2.ipynb",
      "provenance": [],
      "authorship_tag": "ABX9TyMwMmAg7z3GSQiTHPkW8bMw",
      "include_colab_link": true
    },
    "kernelspec": {
      "name": "python3",
      "display_name": "Python 3"
    }
  },
  "cells": [
    {
      "cell_type": "markdown",
      "metadata": {
        "id": "view-in-github",
        "colab_type": "text"
      },
      "source": [
        "<a href=\"https://colab.research.google.com/github/nighty-44/karilyn_INFO3020_Spring2020/blob/master/a2.ipynb\" target=\"_parent\"><img src=\"https://colab.research.google.com/assets/colab-badge.svg\" alt=\"Open In Colab\"/></a>"
      ]
    },
    {
      "cell_type": "code",
      "metadata": {
        "id": "ySFhRhCu-o_g",
        "colab_type": "code",
        "outputId": "89b315ce-487a-43b0-bca9-5f7bdb3aa176",
        "colab": {
          "base_uri": "https://localhost:8080/",
          "height": 34
        }
      },
      "source": [
        "#all work and no play makes jack a dull boi\n",
        "al=\"All \"\n",
        "w=\"work \"\n",
        "an=\"and \"\n",
        "n=\"no \"\n",
        "p=\"play \"\n",
        "m=\"makes \"\n",
        "j=\"Jack \"\n",
        "a=\"a \"\n",
        "d=\"dull \"\n",
        "b=\"boy.\"\n",
        "print(al+w+an+n+p+m+j+a+d+b)\n",
        "#and done with part 1"
      ],
      "execution_count": 16,
      "outputs": [
        {
          "output_type": "stream",
          "text": [
            "All work and no play makes Jack a dull boy.\n"
          ],
          "name": "stdout"
        }
      ]
    },
    {
      "cell_type": "code",
      "metadata": {
        "id": "3vBmxGa80NCp",
        "colab_type": "code",
        "outputId": "725f100a-764a-429b-9801-692ba34fff1e",
        "colab": {
          "base_uri": "https://localhost:8080/",
          "height": 68
        }
      },
      "source": [
        "a=input(\"please enter a number:\")\n",
        "b=input(\"please enter a different number:\")\n",
        "s=3.14*(1+int(a)/int(b))**3\n",
        "print(s)\n",
        "#part 2 is complete"
      ],
      "execution_count": 9,
      "outputs": [
        {
          "output_type": "stream",
          "text": [
            "please enter a number:2\n",
            "please enter a different number:3\n",
            "14.537037037037033\n"
          ],
          "name": "stdout"
        }
      ]
    }
  ]
}