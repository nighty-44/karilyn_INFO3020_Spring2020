{
  "nbformat": 4,
  "nbformat_minor": 0,
  "metadata": {
    "colab": {
      "name": "a11b.ipynb",
      "provenance": [],
      "authorship_tag": "ABX9TyMFPtPWsRvyYWFmy5vVADyw",
      "include_colab_link": true
    },
    "kernelspec": {
      "name": "python3",
      "display_name": "Python 3"
    }
  },
  "cells": [
    {
      "cell_type": "markdown",
      "metadata": {
        "id": "view-in-github",
        "colab_type": "text"
      },
      "source": [
        "<a href=\"https://colab.research.google.com/github/nighty-44/karilyn_INFO3020_Spring2020/blob/master/a11b.ipynb\" target=\"_parent\"><img src=\"https://colab.research.google.com/assets/colab-badge.svg\" alt=\"Open In Colab\"/></a>"
      ]
    },
    {
      "cell_type": "markdown",
      "metadata": {
        "id": "DLWzEvTUphDn",
        "colab_type": "text"
      },
      "source": [
        "# Problem 3"
      ]
    },
    {
      "cell_type": "markdown",
      "metadata": {
        "id": "UxMolyalpj6S",
        "colab_type": "text"
      },
      "source": [
        "In database \"world\", there is a table which stores the life expectancy of most countries. Using bar plots, display the life expectancy by countries in one specific continent."
      ]
    },
    {
      "cell_type": "code",
      "metadata": {
        "id": "nZaEZ5cspdUq",
        "colab_type": "code",
        "colab": {}
      },
      "source": [
        "import pandas as pd\n",
        "import matplotlib.pyplot as plt\n",
        "\n",
        "\n",
        "filename = \"world\"\n",
        "data = pd.read_sql_table(\"Country\")\n",
        "\n",
        "col = [\"Africa\", \"Antarctica\", \"Asia\", \"Europe\", \"North America\", \"Oceania\", \"South America\"]\n",
        "\n",
        "colors = [\"lightblue\", \"lightgreen\", \"magenta\", \"gold\", \"pink\", \"gray\", \"blue\"]\n",
        "\n",
        "plt.figure(figsize=(10, 10))\n",
        "polys = plt.bar(data[\"LifeExpectancy\"], data[col].values.T, colors=colors)\n",
        "\n",
        "rectangles = []\n",
        "\n",
        "for poly in polys:\n",
        "    rectangles.append(plt.Rectangle((0, 0), 1, 1, fc=poly.get_facecolor()[0]))\n",
        "    legend = plt.legend(rectangles, col, loc=3)\n",
        "    frame = legend.get_frame()\n",
        "    frame.set_color(\"white\")\n",
        "\n",
        "\n",
        "plt.show()\n"
      ],
      "execution_count": 0,
      "outputs": []
    },
    {
      "cell_type": "markdown",
      "metadata": {
        "id": "BDWps0FTpmPD",
        "colab_type": "text"
      },
      "source": [
        "# Problem 4"
      ]
    },
    {
      "cell_type": "markdown",
      "metadata": {
        "id": "LT8KqVBhpp0B",
        "colab_type": "text"
      },
      "source": [
        "There is an excel file named \"catering_sale_all.xls\". It stores the sale situation of several kinds of food in one day. Using the line chart, display the selling situation of everyday by a specific food name."
      ]
    },
    {
      "cell_type": "code",
      "metadata": {
        "id": "zJ0FGlpNpsV-",
        "colab_type": "code",
        "colab": {}
      },
      "source": [
        "import pandas as pd\n",
        "import matplotlib.pyplot as plt\n",
        "\n",
        "filename = \"assign11-1-catering_sale_all\"\n",
        "data = pd.read_excel(filename, header=None)\n",
        "\n",
        "plt.ylim(0, 30)\n",
        "plt.plot(data)\n",
        "plt.show()\n"
      ],
      "execution_count": 0,
      "outputs": []
    }
  ]
}