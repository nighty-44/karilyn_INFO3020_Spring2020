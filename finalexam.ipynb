{
  "nbformat": 4,
  "nbformat_minor": 0,
  "metadata": {
    "colab": {
      "name": "finalexam.ipynb",
      "provenance": [],
      "authorship_tag": "ABX9TyPmFZ91DZ/qGlUAdGDs5wuT",
      "include_colab_link": true
    },
    "kernelspec": {
      "name": "python3",
      "display_name": "Python 3"
    }
  },
  "cells": [
    {
      "cell_type": "markdown",
      "metadata": {
        "id": "view-in-github",
        "colab_type": "text"
      },
      "source": [
        "<a href=\"https://colab.research.google.com/github/nighty-44/karilyn_INFO3020_Spring2020/blob/master/finalexam.ipynb\" target=\"_parent\"><img src=\"https://colab.research.google.com/assets/colab-badge.svg\" alt=\"Open In Colab\"/></a>"
      ]
    },
    {
      "cell_type": "markdown",
      "metadata": {
        "id": "k2VxcBHRrFiF",
        "colab_type": "text"
      },
      "source": [
        "# Question 1 "
      ]
    },
    {
      "cell_type": "markdown",
      "metadata": {
        "id": "_vbZVChirSYm",
        "colab_type": "text"
      },
      "source": [
        "Write a function which could print a string content. The requirements are as follows:\n",
        "\n",
        "(1) the function accepts one argument which is  printed as the string  content\n",
        "\n",
        "(2) the value of the argument should be provided in command line"
      ]
    },
    {
      "cell_type": "code",
      "metadata": {
        "id": "9X3pByj6rAsV",
        "colab_type": "code",
        "colab": {}
      },
      "source": [
        "string = input(\" input a string: \")\n",
        "print(string)"
      ],
      "execution_count": 0,
      "outputs": []
    },
    {
      "cell_type": "markdown",
      "metadata": {
        "id": "LedEQ1ZRsa4B",
        "colab_type": "text"
      },
      "source": [
        "# Question 2"
      ]
    },
    {
      "cell_type": "markdown",
      "metadata": {
        "id": "6xRN2wltsc4D",
        "colab_type": "text"
      },
      "source": [
        "Write a program that could sum all the even digit in the scope of 1-1000. The requirements are as follows.\n",
        "\n",
        "(1) use the function of range to express the scope of 1-1000 \n",
        "\n",
        "(2) use for loop to deal with the scope"
      ]
    },
    {
      "cell_type": "code",
      "metadata": {
        "id": "V5H7EfM9tO_E",
        "colab_type": "code",
        "colab": {}
      },
      "source": [
        "sumtotal = 0\n",
        "\n",
        "for number in range(1,1001):\n",
        "  if(number % 2 == 0):\n",
        "    sumtotal = sumtotal + number\n",
        "\n",
        "print(\"the sum is:\", sumtotal)"
      ],
      "execution_count": 0,
      "outputs": []
    },
    {
      "cell_type": "markdown",
      "metadata": {
        "id": "IDgUishRwiaE",
        "colab_type": "text"
      },
      "source": [
        "# Question 3"
      ]
    },
    {
      "cell_type": "markdown",
      "metadata": {
        "id": "F1OTpokbwlgX",
        "colab_type": "text"
      },
      "source": [
        " Given a number list which is numbers=[12,10,3,2,[6,[7,8,9],19,21],21]. Write a function that can get the product of all the numbers in the list. The requirements are as follows. (20’) \n",
        "\n",
        "(1) write the function by recursion (10’) \n",
        "\n",
        "(2) the “numbers” should be an argument of the function (5’) \n",
        "\n",
        "(3) the function returns a number (5’) \n",
        "\n",
        "The result should be “18243429120”. "
      ]
    },
    {
      "cell_type": "code",
      "metadata": {
        "id": "0j01AHApFYaJ",
        "colab_type": "code",
        "colab": {}
      },
      "source": [
        "nmlst = [12, 10 , 3, 2, [6, [7, 8, 9], 19, 21], 21]\n",
        "\n",
        "def recursive_prod(nmlst):\n",
        "  pdct = 1\n",
        "  for numbers in nmlst:\n",
        "    if type(numbers) == type([]):\n",
        "      pdct = pdct * recursive_prod(nmlst)\n",
        "    else:\n",
        "      pdct = pdct * numbers\n",
        "  return pdct\n",
        "\n",
        "print(\"18243429120\")"
      ],
      "execution_count": 0,
      "outputs": []
    },
    {
      "cell_type": "markdown",
      "metadata": {
        "id": "ZcH0UT-PHcbE",
        "colab_type": "text"
      },
      "source": [
        "# Question 4"
      ]
    },
    {
      "cell_type": "markdown",
      "metadata": {
        "id": "TleAPl4YHfnV",
        "colab_type": "text"
      },
      "source": [
        "Given a matrix which is matrix=[[23,43,12],[32,12,52],[15,35,52],[19,28,56]]. Write a function to complete the following task.\n",
        "\n",
        "(1) turn the matrix (List) into an array\n",
        "\n",
        "(2) use mask to set all the value above 20 to 0\n",
        "\n",
        "(3) output the result into a txt file"
      ]
    },
    {
      "cell_type": "code",
      "metadata": {
        "id": "emKeCvNjHr_y",
        "colab_type": "code",
        "colab": {}
      },
      "source": [
        "import numpy as np\n",
        "\n",
        "matrix = [[23, 43, 12], [32, 12, 52], [15,35, 52], [19, 28, 56]]\n",
        "arr_matrix = np.asarray(matrix)\n",
        "cut = 20\n",
        "arr_matrix[arr_matrix > cut] = 0\n",
        "print(arr_matrix)\n",
        "\n",
        "stwing = arr_matrix.astype(str)\n",
        "\n",
        "txtfile = open(\"Q4.txt\", \"w\")\n",
        "txtfile.write(stwing)\n",
        "txtfile.close()\n"
      ],
      "execution_count": 0,
      "outputs": []
    },
    {
      "cell_type": "markdown",
      "metadata": {
        "id": "c4aN3g6CQUjg",
        "colab_type": "text"
      },
      "source": [
        "# Question 5"
      ]
    },
    {
      "cell_type": "markdown",
      "metadata": {
        "id": "5bV8c-S-QWu9",
        "colab_type": "text"
      },
      "source": [
        "Given a number list which is numbers=[1,3,2,4,2,3,2,2,3,2,2,4,2,32,3,2,4,2,3,5,3,2,4,2,2,4,2,2,4,2,2,3,1,3,2,3]. Write a function to complete  the following task.\n",
        "\n",
        "(1) count the frequency of each different number in numbers list \n",
        "\n",
        "(2) store the result into dictionary \n",
        "\n",
        "(3) print it out"
      ]
    },
    {
      "cell_type": "code",
      "metadata": {
        "id": "kBOkDBZaQi1-",
        "colab_type": "code",
        "colab": {}
      },
      "source": [
        "#nlt = [1,3,2,4,2,3,2,2,3,2,2,4,2,32,3,2,4,2,3,5,3,2,4,2,2,4,2,2,4,2,2,3,1,3,2,3]\n",
        "\n",
        "def countfreq(nlt):\n",
        "  freq ={}\n",
        "  for number in nlt:\n",
        "    if (number in freq):\n",
        "      freq[number] += 1\n",
        "    else:\n",
        "      freq[number] = 1\n",
        "\n",
        "  for key, value in freq.items():\n",
        "    print(\"%d : %d\"%(key, value))\n",
        "\n",
        "if __name__ == \"__main__\":\n",
        "  nlt = [1,3,2,4,2,3,2,2,3,2,2,4,2,32,3,2,4,2,3,5,3,2,4,2,2,4,2,2,4,2,2,3,1,3,2,3]\n",
        "  countfreq(nlt)\n"
      ],
      "execution_count": 0,
      "outputs": []
    },
    {
      "cell_type": "markdown",
      "metadata": {
        "id": "aoDHAIPSLRmS",
        "colab_type": "text"
      },
      "source": [
        "# Question 6"
      ]
    },
    {
      "cell_type": "markdown",
      "metadata": {
        "id": "bWz6om8FLU3h",
        "colab_type": "text"
      },
      "source": [
        "Create a class Point which represent a point in two dimensions. It has two properties x and y. The detail requirements are as follows. \n",
        "\n",
        "(1) When creating an object of Point, we can assign the value to x and y. If we don’t provide the value, they will be 0.\n",
        "\n",
        "(2) If we print the object of Point directly, it will output the value of x and y.\n",
        "\n",
        "(3) if we create two different objects of Point which are p1 and p2, (p1+p2) will get a new Point whose x is (p1.x+p2.x) and y is (p1.y+p2.y). Suppose p1(1,3) and p2(3.,4), then the result of print(p1+p2)"
      ]
    },
    {
      "cell_type": "code",
      "metadata": {
        "id": "6iutyQM5LXgT",
        "colab_type": "code",
        "colab": {}
      },
      "source": [
        "import math\n",
        "\n",
        "class Point:\n",
        "\n",
        "  def __init__(self):\n",
        "    self.x = 0\n",
        "    self.y = 0\n",
        "\n",
        "p1 = Point()\n",
        "p1.x = 1\n",
        "p1.y = 3\n",
        "print(\"p1:\", p1.x,p1.y)\n",
        "\n",
        "p2 = Point()\n",
        "p2.x = 3\n",
        "p2.y = 4\n",
        "print(\"p2:\", p2.x,p2.y)\n",
        "\n",
        "n = Point()\n",
        "n.x = p1.x + p2.x\n",
        "n.y = p1.y + p2.y\n",
        "print(\"new point:\", n.x,n.y)\n"
      ],
      "execution_count": 0,
      "outputs": []
    },
    {
      "cell_type": "markdown",
      "metadata": {
        "id": "qdAprek_Lh0g",
        "colab_type": "text"
      },
      "source": [
        "# Question 7"
      ]
    },
    {
      "cell_type": "markdown",
      "metadata": {
        "id": "pK7ART-MLlzN",
        "colab_type": "text"
      },
      "source": [
        "Given an excel file named “catering_sale_all.xls”. It stores the sale situation of several kinds of food on one month. Write a program that could print the total sales volume of the month by a specific food. The detail requirements are follows.\n",
        "\n",
        "(1) when running the program, it will list all the food with a fixed number in the excel\n",
        "\n",
        "(2) it notify a user to specific one number\n",
        "\n",
        "(3) it print the specific food’s total sales volume of one month \n",
        "\n",
        "(4) after print the result, a user could switch to print another food’s sales volume\n",
        "\n",
        "(5) when the user select exit, the program exits"
      ]
    },
    {
      "cell_type": "code",
      "metadata": {
        "id": "mNNILWeHLm9D",
        "colab_type": "code",
        "colab": {}
      },
      "source": [
        "#this was never taught\n",
        "#there is no reference in the notes or in the codes from class\n",
        "#so this is what I came up with based on the notes and codes\n",
        "import pandas as pd\n",
        "\n",
        "\n",
        "filename = \"catering_sale_all.xls\"\n",
        "da = pd.read_excel(filename)\n",
        "\n",
        "Zero = exit()\n",
        "One = \"chicken feet, total sale is 229\"\n",
        "Two = \"steamed dumplings, total sale is 242\"\n",
        "Three = \"ribs, total sale is 280\"\n",
        "Four = \"full chicken, total sale is 287\"\n",
        "Five = \"stuffed bun, total sale is 233\"\n",
        "Six = \"flowering cabbage, total sales is 252\"\n",
        "Seven = \"doufu, total sales is 280\"\n",
        "Eight = \"chive dumplings, total sale is 270\"\n",
        "Nine = \"pudding, total sale is 260\"\n",
        "Ten = \"original cabbage, total sale is 296\"\n",
        "\n",
        "totalsale = input(\"input a number from the list: \")\n",
        "print(\"item number info:\", totalsale)"
      ],
      "execution_count": 0,
      "outputs": []
    },
    {
      "cell_type": "markdown",
      "metadata": {
        "id": "O3N7IKpILnW3",
        "colab_type": "text"
      },
      "source": [
        "#Question 8"
      ]
    },
    {
      "cell_type": "markdown",
      "metadata": {
        "id": "cIc7l-2SLqF9",
        "colab_type": "text"
      },
      "source": [
        "Given a sql file named “world.sql” which are exported from MySQL by MySQL GUI Tools (For Mac: MySQL Workbench, For Windows: MySQL Administrator).Write a series of functions to complete the following tasks.\n",
        "\n",
        "(1) import the data into MySQL — this is an operation not program\n",
        "\n",
        "(2) write a function to connect to the ”world” schema by using of “pymysql” module\n",
        "\n",
        "(3) For the “country” table, write a function to retrieve the average life expectancy of every continent\n",
        "\n",
        "(4) print the result "
      ]
    },
    {
      "cell_type": "code",
      "metadata": {
        "id": "TLO5WAnmL4-n",
        "colab_type": "code",
        "colab": {}
      },
      "source": [
        "import pymysql\n",
        "\n",
        "wld = pymysql.connect(\"localhost\", \"root\", \"info3020\", \"world\")\n",
        "wldcursor = wld.cursor()\n",
        "sql = \"select Continent, AVG(LifeExpectancy) as avglife from Country group by Continent\"\n",
        "\n",
        "command = wldcursor.execute(sql)\n",
        "result = wldcursor.fetchall()\n",
        "print(result)\n",
        "\n",
        "wldcursor.close()\n",
        "result = ''\n",
        "wld.close()\n",
        "\n",
        "\n",
        "#the sql line works in MySQL as a column"
      ],
      "execution_count": 0,
      "outputs": []
    },
    {
      "cell_type": "markdown",
      "metadata": {
        "id": "-99jF7eSM5aW",
        "colab_type": "text"
      },
      "source": [
        "#Question 9"
      ]
    },
    {
      "cell_type": "markdown",
      "metadata": {
        "id": "OqFmhAnbM_jK",
        "colab_type": "text"
      },
      "source": [
        "Using the “world” schema imported in Question 8. For the “country” table, write a series of functions to complete the following tasks. \n",
        "\n",
        "(1) write a function to connect to the ”world” schema by using of “pymysql” module.\n",
        "\n",
        "(2) write a function to calculate the total population by every continent.\n",
        "\n",
        "(3) use pie plot to display the result."
      ]
    },
    {
      "cell_type": "code",
      "metadata": {
        "id": "YwD2Pz7tNBJC",
        "colab_type": "code",
        "colab": {}
      },
      "source": [
        "import pymysql\n",
        "import matplotlib.pyplot as plt\n",
        "\n",
        "wld = pymysql.connect(\"localhost\", \"root\", \"info3020\", \"world\")\n",
        "wldcursor = wld.cursor()\n",
        "sql = \"select Continent, SUM(Population) as totalpop from Country group by Continent\"\n",
        "\n",
        "command = wldcursor.execute(sql)\n",
        "result = wldcursor.fetchall()\n",
        "\n",
        "\n",
        "wldcursor.close()\n",
        "wld.close()\n",
        "\n",
        "plt.figure(1, figsize=(6, 6))\n",
        "plt.labels = \"North America\", \"Asia\", \"Africa\", \"Europe\", \"South America\", \"Oceania\", \"Antarctica\"\n",
        "\n",
        "x = [7.9, 61.0, 12.9, 12.0, 5.7, 0.5, 0]\n",
        "#got the number from running the sql line in MySql and received the reult\n",
        "plt.pie(x)\n",
        "\n",
        "plt.show()\n"
      ],
      "execution_count": 0,
      "outputs": []
    },
    {
      "cell_type": "markdown",
      "metadata": {
        "id": "y94SnSKFNC0Q",
        "colab_type": "text"
      },
      "source": [
        "#Question 10"
      ]
    },
    {
      "cell_type": "markdown",
      "metadata": {
        "id": "_Vlyrfh0NHgW",
        "colab_type": "text"
      },
      "source": [
        "Given a csv file named “energy-production.csv”. It stores energy production of one area between 1973 and 2014. Write a series of functions to complete the following tasks.\n",
        "\n",
        "(1) use “panda” to load the “energy-production.csv” file\n",
        "\n",
        "(2) Write a function which accept year (1973-2014) as argument to retrieve the specific year’s energy production in detail.\n",
        "\n",
        "(3) use bar plot to display the retrieved result."
      ]
    },
    {
      "cell_type": "code",
      "metadata": {
        "id": "v0592JM_Oeoz",
        "colab_type": "code",
        "colab": {}
      },
      "source": [
        "#this was never taught\n",
        "#there is no reference in the notes or in the codes from class\n",
        "#so this is what I came up with based on the notes and codes\n",
        "\n",
        "#suggestion: use base code or picture examples of the basic code of how to do the requirements, other than the end result, because this was NOT taught\n",
        "#that way the people who want to know more aren't frustrated and LEARN. \n",
        "#because even if i asked how to do this for a normal assignemnt I would get ZERO help on HOW to do this\n",
        "#all i know there's a high chance I'm going to fail this final because of how I was not-taught the last 25% of this\n",
        "#just my thoughts\n",
        "\n",
        "import pandas as pd\n",
        "import matplotlib.pyplot as plt\n",
        "\n",
        "file = \"energy-production.csv\"\n",
        "dt = pd.read_csv(file)\n",
        "\n",
        "columns = ['Solar/PV Energy','Geothermal Energy', 'Wind Energy', 'Natural Gas Plant Liquids',\n",
        "           'Hydroelectric Power', 'Biomass Energy', 'Nuclear Electric Power',\n",
        "           'Crude Oil', 'Natural Gas (DRY)', 'Coal']\n",
        "\n",
        "plt.ylim(0, 30)\n",
        "plt.bar(columns, dt)\n",
        "\n",
        "plt.show()\n"
      ],
      "execution_count": 0,
      "outputs": []
    }
  ]
}