{
  "nbformat": 4,
  "nbformat_minor": 0,
  "metadata": {
    "colab": {
      "name": "a9.ipynb",
      "provenance": [],
      "authorship_tag": "ABX9TyP1kgbrcjbTnFVLQsZxsKTr",
      "include_colab_link": true
    },
    "kernelspec": {
      "name": "python3",
      "display_name": "Python 3"
    }
  },
  "cells": [
    {
      "cell_type": "markdown",
      "metadata": {
        "id": "view-in-github",
        "colab_type": "text"
      },
      "source": [
        "<a href=\"https://colab.research.google.com/github/nighty-44/karilyn_INFO3020_Spring2020/blob/master/a9.ipynb\" target=\"_parent\"><img src=\"https://colab.research.google.com/assets/colab-badge.svg\" alt=\"Open In Colab\"/></a>"
      ]
    },
    {
      "cell_type": "markdown",
      "metadata": {
        "id": "30mD5iEmzyDH",
        "colab_type": "text"
      },
      "source": [
        "# Problem 1"
      ]
    },
    {
      "cell_type": "markdown",
      "metadata": {
        "id": "3u9yXCCLz4Az",
        "colab_type": "text"
      },
      "source": [
        "Write a method of MyTime, which can return the approximate interval minutes of any two times. The results should be int. It accepts a “MyTime” object as an argument which needs to be compared with the ”MyTime” object who invoke the method."
      ]
    },
    {
      "cell_type": "code",
      "metadata": {
        "id": "4wZFOucQgrky",
        "colab_type": "code",
        "colab": {}
      },
      "source": [
        "class MyTime:\n",
        "\n",
        "  def __init__(self, h=0,m=0,s=0):\n",
        "    self.hours=h\n",
        "    self.minutes=m\n",
        "    self.seconds=s\n",
        "\n",
        "  def compare(time1,time2):\n",
        "    timea=MyTime.MyTime.strptime(time1,\"%h,%m,%s\")\n",
        "    timeb=MyTime.MyTime.strptime(time2, \"%h,%m,%s\")\n",
        "    newtime = timea-timeb\n",
        "    return newtime.seconds/60\n",
        "\n",
        "time1=MyTime(2,45,15)\n",
        "time2=MyTime(3,15,58)\n",
        "print(\"the interval is roughly:\", compare(\"3,15,58\",\"2,45,15\"))"
      ],
      "execution_count": 0,
      "outputs": []
    },
    {
      "cell_type": "markdown",
      "metadata": {
        "id": "6Yeq3EU20iPh",
        "colab_type": "text"
      },
      "source": [
        "# Problem 2"
      ]
    },
    {
      "cell_type": "markdown",
      "metadata": {
        "id": "erbvBj9i0lJA",
        "colab_type": "text"
      },
      "source": [
        "Modify cmp so that Aces are ranked higher than Kings."
      ]
    },
    {
      "cell_type": "code",
      "metadata": {
        "id": "jt_Z8Vz30t_r",
        "colab_type": "code",
        "colab": {}
      },
      "source": [
        "class Card:\n",
        "  suits=[\"Clubs\",\"Diamonds\",\"Hearts\",\"Spades\"]\n",
        "  ranks=[\"narf\",\"2\",\"3\",\"4\",\"5\",\"6\",\"7\",\"8\",\"9\",\"10\",\"Jack\",\"Queen\",\"King\",\"Ace\"]\n",
        "\n",
        "\n",
        "  def __init__(self,suit=0,rank=0):\n",
        "    self.suit=suit\n",
        "    self.rank=rank\n",
        "\n",
        "  def __str__(self):\n",
        "    return (self.ranks[self.rank]+\" of \"+self.suits[self.suit])\n",
        "\n",
        "  def cmp(self,other):\n",
        "    if self.suit>other.suit:return 1\n",
        "    if self.suit<other.suit:return -1\n",
        "\n",
        "    if self.rank>other.rank: return 1\n",
        "    if self.rank<other.rank: return -1\n",
        "    return 0\n",
        "\n",
        "card1=Card(1,12)\n",
        "print(card1)\n",
        "\n",
        "card2=Card(0,13)\n",
        "print(card2)"
      ],
      "execution_count": 0,
      "outputs": []
    },
    {
      "cell_type": "markdown",
      "metadata": {
        "id": "pLqutyHo0tJT",
        "colab_type": "text"
      },
      "source": [
        "# Problem 3"
      ]
    },
    {
      "cell_type": "markdown",
      "metadata": {
        "id": "u8ytb9fM0xLa",
        "colab_type": "text"
      },
      "source": [
        "Write a function named readposint that uses the input dialog to prompt the user for a postive integer and then checks the input to confirm that it meets the requirements. It should be able to handle inputs that cannot be converted to int, as well as a negative int.\n",
        "\n",
        "(1)try to catch the convert error\n",
        "\n",
        "\n",
        "(2) Raise your own exception when the value is negative."
      ]
    },
    {
      "cell_type": "code",
      "metadata": {
        "id": "7gm5bV-lCcY9",
        "colab_type": "code",
        "colab": {}
      },
      "source": [
        "readposint = float(input(\"enter a number: \"))\n",
        "if readposint > 0:\n",
        "  print(readposint, \"is positive\")\n",
        "elif readposint ==0:\n",
        "  print(\"really? gross... try for something bigger\")\n",
        "else:\n",
        "  print(readposint, \"isn't positive... do it right next time\")"
      ],
      "execution_count": 0,
      "outputs": []
    }
  ]
}