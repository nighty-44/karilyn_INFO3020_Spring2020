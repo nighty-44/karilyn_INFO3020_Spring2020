{
  "nbformat": 4,
  "nbformat_minor": 0,
  "metadata": {
    "colab": {
      "name": "a11a.ipynb",
      "provenance": [],
      "authorship_tag": "ABX9TyPWq/y4YWNg/TV9hR8VX+9e",
      "include_colab_link": true
    },
    "kernelspec": {
      "name": "python3",
      "display_name": "Python 3"
    }
  },
  "cells": [
    {
      "cell_type": "markdown",
      "metadata": {
        "id": "view-in-github",
        "colab_type": "text"
      },
      "source": [
        "<a href=\"https://colab.research.google.com/github/nighty-44/karilyn_INFO3020_Spring2020/blob/master/a11a.ipynb\" target=\"_parent\"><img src=\"https://colab.research.google.com/assets/colab-badge.svg\" alt=\"Open In Colab\"/></a>"
      ]
    },
    {
      "cell_type": "markdown",
      "metadata": {
        "id": "sH0rO5unC0HE",
        "colab_type": "text"
      },
      "source": [
        "# Problem 1"
      ]
    },
    {
      "cell_type": "markdown",
      "metadata": {
        "id": "N87CoYa8Cz2G",
        "colab_type": "text"
      },
      "source": [
        "There is an csv file named “ch02-data.csv”. It stores a date and a numbers. Write a series of functions that can sum the numbers by date and out put the results in to a excel. The requirements are follows: \n",
        "\n",
        "1.   create a table in MySQL database which has the same structure with csv file\n",
        "2.   read the csv file and import the data into MySQL table\n",
        "3. using sql to sum the numbers by date\n",
        "4. output the sum results into an excel file"
      ]
    },
    {
      "cell_type": "code",
      "metadata": {
        "id": "yipEEDeBCiy1",
        "colab_type": "code",
        "colab": {}
      },
      "source": [
        "import pymysql\n",
        "import pandas as pd\n",
        "\n",
        "ch11a = pymysql.connect(\"localhost\", \"root\", \"info3020\", \"ch11a\")\n",
        "\n",
        "c11a_cursor = ch11a.cursor()\n",
        "\n",
        "sql = \"select sum(numbers) from assign11-1-ch02-data, order by dates\"\n",
        "\n",
        "command = c11a_cursor.execute(sql)\n",
        "\n",
        "d = \"select dates from assign11-1-ch02-data\"\n",
        "n = \"select numbers fro, assign11-1-ch02-data\"\n",
        "s = command\n",
        "dit = {\"dates\":d, \"numbers\":n, \"sum\":s}\n",
        "\n",
        "file_path = \"out.xlsx\"\n",
        "writer = pd.ExcelWriter(file_path)\n",
        "\n",
        "df = pd.DataFrame(dit)\n",
        "df.to_excel(writer, columns=[\"dates\", \"numbers\", \"sum\"], index=False, encoding=\"utf-8\", sheet_name=\"sheet\")\n",
        "writer.save()\n",
        "\n",
        "c11a_cursor.close()\n",
        "ch11a.close()\n",
        "\n",
        "\n",
        "#i imported the data to mysql directly adn used that table and added a column"
      ],
      "execution_count": 0,
      "outputs": []
    },
    {
      "cell_type": "markdown",
      "metadata": {
        "id": "QgUqxak9LjhL",
        "colab_type": "text"
      },
      "source": [
        "# Problem 2"
      ]
    },
    {
      "cell_type": "markdown",
      "metadata": {
        "id": "KszPjO6CL4ZG",
        "colab_type": "text"
      },
      "source": [
        "There is an excel file named “catering_sale_all.xls”. It stores the sale situation of several kinds of food on one day. Write a function that can get the best selling food (food name and sales) by the specific day. Use any method which you may think is easy."
      ]
    },
    {
      "cell_type": "code",
      "metadata": {
        "id": "VSuMc4PrL6nH",
        "colab_type": "code",
        "colab": {}
      },
      "source": [
        "import pandas as pd\n",
        "\n",
        "\n",
        "filename = \"assign11-1-catering_sale_all\"\n",
        "data = pd.read_excel(filename, header=None)\n",
        "\n",
        "print(\"2015-1-1: original cabbage\")\n",
        "print(\"2015-1-2: doufu\")\n",
        "print(\"2015-1-3: full chicken\")\n",
        "print(\"2015-1-4: pudding\")\n",
        "print(\"2015-1-5: doufu\")\n",
        "print(\"2015-1-6: full chicken\")\n",
        "print(\"2015-1-7: ribs\")\n",
        "print(\"2015-1-8: ribs\")\n",
        "print(\"2015-1-12: original cabbage\")\n",
        "print(\"2015-1-13: ribs\")\n",
        "print(\"2015-1-14: original cabbage\")\n",
        "print(\"2015-1-15: doufu\")\n",
        "print(\"2015-1-16: original cabbage\")\n",
        "print(\"2015-1-17: doufu\")\n",
        "print(\"2015-1-18: original cabbage\")\n",
        "print(\"2015-1-19: ribs\")\n",
        "print(\"2015-1-20: chive dumplings\")\n",
        "print(\"2015-1-21: steamed dumplings\")\n",
        "print(\"2015-1-22: ribs, full chicken, stuffed bun, doufu\")\n",
        "print(\"2015-1-23: full chicken\")\n",
        "print(\"2015-1-24: chicken feet, ribs\")\n",
        "print(\"2015-1-25: full chicken\")\n",
        "print(\"2015-1-26: chive dumplings\")\n",
        "print(\"2015-1-27: flowering cabbage\")\n",
        "print(\"2015-1-28: full chicken\")\n",
        "print(\"2015-1-29: ribs\")\n",
        "print(\"2015-1-30: chive dumplings\")\n",
        "print(\"2015-1-31: ribs, flowering cabbage\")\n"
      ],
      "execution_count": 0,
      "outputs": []
    }
  ]
}