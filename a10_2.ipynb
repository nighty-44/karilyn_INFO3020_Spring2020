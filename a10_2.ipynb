{
  "nbformat": 4,
  "nbformat_minor": 0,
  "metadata": {
    "colab": {
      "name": "a10.2.ipynb",
      "provenance": [],
      "authorship_tag": "ABX9TyNLCaBRdTQnbrehc6rq5uqv",
      "include_colab_link": true
    },
    "kernelspec": {
      "name": "python3",
      "display_name": "Python 3"
    }
  },
  "cells": [
    {
      "cell_type": "markdown",
      "metadata": {
        "id": "view-in-github",
        "colab_type": "text"
      },
      "source": [
        "<a href=\"https://colab.research.google.com/github/nighty-44/karilyn_INFO3020_Spring2020/blob/master/a10_2.ipynb\" target=\"_parent\"><img src=\"https://colab.research.google.com/assets/colab-badge.svg\" alt=\"Open In Colab\"/></a>"
      ]
    },
    {
      "cell_type": "markdown",
      "metadata": {
        "id": "5dktKt2prkAr",
        "colab_type": "text"
      },
      "source": [
        "# Problem 1"
      ]
    },
    {
      "cell_type": "markdown",
      "metadata": {
        "id": "LbZLxkmRrkeg",
        "colab_type": "text"
      },
      "source": [
        "For the student table we created in the last assignment, write a function which can add a student into the table.\n",
        "\n",
        "1.   the function accepts data in command line.\n",
        "2.   insert at least 10 students into the table.\n",
        "3. the major must be “data science”, “information science”, ”computer science”\n",
        "4. set at least 3 students in “data science”, 4 in “information science”, 5 in “computer science”"
      ]
    },
    {
      "cell_type": "code",
      "metadata": {
        "id": "MK74W9bcrgsl",
        "colab_type": "code",
        "colab": {}
      },
      "source": [
        "import pymysql\n",
        "\n",
        "studb = pymysql.connect(\"localhost\", \"root\", \"info3020\", \"studb\")\n",
        "stucursor = studb.cursor()\n",
        "sqlA = \"insert into tstudent(tstuid) valueA(%s)\"\n",
        "sqlB = \"insert into tstudent(tstuname) valueB(%s)\"\n",
        "sqlC = \"insert into tstudent(tmajor) valueC(%s)\"\n",
        "\n",
        "valueA = input(\"please give ID: \")\n",
        "valueB = input(\"please give Name: \")\n",
        "valueC = input(\"please give Major:\")\n",
        "\n",
        "\n",
        "commandA = stucursor.execute(sqlA, valueA)\n",
        "commandB = stucursor.execute(sqlB, valueB)\n",
        "commandC = stucursor.execute(sqlC, valueC)\n",
        "studb.commit()\n",
        "stucursor.close()\n",
        "studb.close()\n"
      ],
      "execution_count": 0,
      "outputs": []
    },
    {
      "cell_type": "markdown",
      "metadata": {
        "id": "WEQ-64oTsmLE",
        "colab_type": "text"
      },
      "source": [
        "# Problem 2"
      ]
    },
    {
      "cell_type": "markdown",
      "metadata": {
        "id": "hn8MPf2zsq0Q",
        "colab_type": "text"
      },
      "source": [
        "write a function which can delete a student by stuid (in command line)"
      ]
    },
    {
      "cell_type": "code",
      "metadata": {
        "id": "aKG8xmZ-s2y7",
        "colab_type": "code",
        "colab": {}
      },
      "source": [
        "import pymysql\n",
        "\n",
        "studb = pymysql.connect(\"localhost\", \"root\", \"info3020\", \"studb\")\n",
        "stucursor = studb.cursor()\n",
        "sql = \"delete from tsudent where tstuid=%s\"\n",
        "\n",
        "values = (\"002\")\n",
        "command = stucursor.execute(sql, values)\n",
        "studb.commit()\n",
        "stucursor.close()\n",
        "studb.close()"
      ],
      "execution_count": 0,
      "outputs": []
    },
    {
      "cell_type": "markdown",
      "metadata": {
        "id": "ApkoLxM0s4LW",
        "colab_type": "text"
      },
      "source": [
        "# Problem 3"
      ]
    },
    {
      "cell_type": "markdown",
      "metadata": {
        "id": "KdA0Y_HWs6vz",
        "colab_type": "text"
      },
      "source": [
        "write a function which can modify a student’s name(in command line)"
      ]
    },
    {
      "cell_type": "code",
      "metadata": {
        "id": "ECGmVnqetE7d",
        "colab_type": "code",
        "colab": {}
      },
      "source": [
        "import pymysql\n",
        "\n",
        "studb = pymysql.connect(\"localhost\", \"root\", \"info3020\", \"studb\")\n",
        "stucursor = studb.cursor()\n",
        "sql = \"update tsutdent set tstuname=%s where tstuid=%s\"\n",
        "\n",
        "values =(\"Bob the Cat\", \"018\")\n",
        "command=stucursor.execute(sql, values)\n",
        "studb.commit()\n",
        "stucursor.close()\n",
        "studb.close()\n"
      ],
      "execution_count": 0,
      "outputs": []
    },
    {
      "cell_type": "markdown",
      "metadata": {
        "id": "Nk-4e8_rtFai",
        "colab_type": "text"
      },
      "source": [
        "# Problem 4"
      ]
    },
    {
      "cell_type": "markdown",
      "metadata": {
        "id": "wHhN0exatIhb",
        "colab_type": "text"
      },
      "source": [
        "write a function which can get the total count of students in one specific major (in command line)"
      ]
    },
    {
      "cell_type": "code",
      "metadata": {
        "id": "wHIlw23otXyb",
        "colab_type": "code",
        "colab": {}
      },
      "source": [
        "import pymysql\n",
        "\n",
        "studb = pymysql.connect(\"localhost\", \"root\", \"info3020\", \"studb\")\n",
        "stucursor = studb.cursor()\n",
        "sql = \"insert into tcounts(tstuid, tstuname, tmajor) select id, name, major from tsudent where major=information science\"\n",
        "\n",
        "command = stucursor.execute(sql)\n",
        "studb.commit()\n",
        "\n",
        "studb.close()\n"
      ],
      "execution_count": 0,
      "outputs": []
    },
    {
      "cell_type": "markdown",
      "metadata": {
        "id": "gb4ZVIYstYL-",
        "colab_type": "text"
      },
      "source": [
        "# Problem 5"
      ]
    },
    {
      "cell_type": "markdown",
      "metadata": {
        "id": "R1vjj3j7tbvP",
        "colab_type": "text"
      },
      "source": [
        "write a function which can get one student’s id and name randomly (in command line)"
      ]
    },
    {
      "cell_type": "code",
      "metadata": {
        "id": "grxtPo7rH5Wo",
        "colab_type": "code",
        "colab": {}
      },
      "source": [
        "import pymysql\n",
        "\n",
        "studb = pymysql.connect(\"localhost\", \"root\", \"info3020\", \"studb\")\n",
        "stucursor = studb.cursor()\n",
        "sql = \"select * from tstudent, order by random()\"\n",
        "\n",
        "command = stucursor.execute(sql)\n",
        "results = stucursor.fetchone()\n",
        "\n",
        "stucursor.close()\n",
        "studb.close()\n"
      ],
      "execution_count": 0,
      "outputs": []
    }
  ]
}