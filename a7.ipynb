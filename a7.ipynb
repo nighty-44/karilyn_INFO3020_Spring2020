{
  "nbformat": 4,
  "nbformat_minor": 0,
  "metadata": {
    "colab": {
      "name": "a7.ipynb",
      "provenance": [],
      "authorship_tag": "ABX9TyOYRn0f+5hfI8LHeJF7qKtg",
      "include_colab_link": true
    },
    "kernelspec": {
      "name": "python3",
      "display_name": "Python 3"
    }
  },
  "cells": [
    {
      "cell_type": "markdown",
      "metadata": {
        "id": "view-in-github",
        "colab_type": "text"
      },
      "source": [
        "<a href=\"https://colab.research.google.com/github/nighty-44/karilyn_INFO3020_Spring2020/blob/master/a7.ipynb\" target=\"_parent\"><img src=\"https://colab.research.google.com/assets/colab-badge.svg\" alt=\"Open In Colab\"/></a>"
      ]
    },
    {
      "cell_type": "markdown",
      "metadata": {
        "id": "Vj5bC8EWjoDV",
        "colab_type": "text"
      },
      "source": [
        "# Problem 1"
      ]
    },
    {
      "cell_type": "markdown",
      "metadata": {
        "id": "Mb7Hg_16jykf",
        "colab_type": "text"
      },
      "source": [
        "Use recurion style to modify the assignment in lesson 4"
      ]
    },
    {
      "cell_type": "code",
      "metadata": {
        "id": "Q-kg0xi3w7u9",
        "colab_type": "code",
        "colab": {}
      },
      "source": [
        "import turtle\n",
        "\n",
        "\n",
        "def cir(animal, x, y):\n",
        "    animal.circle(x)\n",
        "    animal.up()\n",
        "    animal.sety((x + 2) * (-1))  # sety is setting the y coordinate further down\n",
        "    animal.down()\n",
        "    if y > 0:\n",
        "        cir(animal, x + 10, y - 1)\n",
        "\n",
        "\n",
        "window = turtle.Screen()\n",
        "lizzie = turtle.Turtle()\n",
        "lizzie.width(5)\n",
        "cir(lizzie, 5, 10)\n",
        "turtle.done()"
      ],
      "execution_count": 0,
      "outputs": []
    },
    {
      "cell_type": "markdown",
      "metadata": {
        "id": "fBtfTdnxj4W-",
        "colab_type": "text"
      },
      "source": [
        "#Problem 2"
      ]
    },
    {
      "cell_type": "markdown",
      "metadata": {
        "id": "xDGvaLrOj7K5",
        "colab_type": "text"
      },
      "source": [
        "Write a function count that returns the total count of a specific number in a nested list. The requirements are as follows:\n",
        "\n",
        "*   The element’s type of the list should be int.\n",
        "*   It should at least have 5 nested in depth.\n",
        "*    You can define the number by yourself."
      ]
    },
    {
      "cell_type": "code",
      "metadata": {
        "id": "xH5a7iVTksFw",
        "colab_type": "code",
        "colab": {}
      },
      "source": [
        "def getCountofList(p):\n",
        "  \"Get number of elements in a nested list\"\n",
        "  count = 0\n",
        "  for num in p:\n",
        "    if type(num) == list:\n",
        "      count += getCountofList(num)\n",
        "    else:\n",
        "      count += 1\n",
        "  return count\n",
        "\n",
        "\n",
        "nest = [4, 6, [34, 787, 90, [42]], 89, 300, 747,[32, [44], 2]]\n",
        "\n",
        "count = getCountofList(nest)\n",
        "\n",
        "print(\"total number: \", count)"
      ],
      "execution_count": 0,
      "outputs": []
    }
  ]
}