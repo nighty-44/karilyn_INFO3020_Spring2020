{
  "nbformat": 4,
  "nbformat_minor": 0,
  "metadata": {
    "colab": {
      "name": "a3.ipynb",
      "provenance": [],
      "authorship_tag": "ABX9TyNfQ0tFts1z7WZlzkgO1gfG",
      "include_colab_link": true
    },
    "kernelspec": {
      "name": "python3",
      "display_name": "Python 3"
    }
  },
  "cells": [
    {
      "cell_type": "markdown",
      "metadata": {
        "id": "view-in-github",
        "colab_type": "text"
      },
      "source": [
        "<a href=\"https://colab.research.google.com/github/nighty-44/karilyn_INFO3020_Spring2020/blob/master/a3.ipynb\" target=\"_parent\"><img src=\"https://colab.research.google.com/assets/colab-badge.svg\" alt=\"Open In Colab\"/></a>"
      ]
    },
    {
      "cell_type": "markdown",
      "metadata": {
        "id": "pTG1w01DlWPQ",
        "colab_type": "text"
      },
      "source": [
        "# Problem 1"
      ]
    },
    {
      "cell_type": "markdown",
      "metadata": {
        "id": "5LkKwH20zGVS",
        "colab_type": "text"
      },
      "source": [
        "Assume the days of the week are numbered 0,1,2,3,4,5,6 from Sunday to Saturday. Write a program that asks a day number, and prints the day name (a string)."
      ]
    },
    {
      "cell_type": "code",
      "metadata": {
        "id": "bqRK7ieUy4Tc",
        "colab_type": "code",
        "colab": {}
      },
      "source": [
        "Zero = \"Sunday\"\n",
        "One = \"Monday\"\n",
        "Two = \"Tuesday\"\n",
        "Three = \"Wednesday\"\n",
        "Four = \"Thursday\"\n",
        "Five = \"Friday\"\n",
        "Six = \"Saturday\"\n",
        "Day_of_Week = input(\"What day of the week number is it? \")\n",
        "print(\"Today is\", Day_of_Week)\n",
        "\n",
        "#works in pycharm, but not google collab"
      ],
      "execution_count": 0,
      "outputs": []
    },
    {
      "cell_type": "markdown",
      "metadata": {
        "id": "27S49awTlb8m",
        "colab_type": "text"
      },
      "source": [
        "# Problem 2"
      ]
    },
    {
      "cell_type": "markdown",
      "metadata": {
        "id": "isY8ePrJy42y",
        "colab_type": "text"
      },
      "source": [
        "Write a program which, given the length of two sides of a right-angled triangle, returns the length of the hypotenuse.\n"
      ]
    },
    {
      "cell_type": "code",
      "metadata": {
        "id": "7AMHb089zCjo",
        "colab_type": "code",
        "colab": {}
      },
      "source": [
        "from math import sqrt\n",
        "print(\"input the two sides: \")\n",
        "sidea = float(input(\"side a: \"))\n",
        "sideb = float(input(\"side b: \"))\n",
        "\n",
        "sidec = sqrt(sidea**2 +sideb**2)\n",
        "\n",
        "print(\"the hypotenuse is:\", sidec)\n"
      ],
      "execution_count": 0,
      "outputs": []
    },
    {
      "cell_type": "markdown",
      "metadata": {
        "id": "-75gvCBrlrvX",
        "colab_type": "text"
      },
      "source": [
        "# Problem 3"
      ]
    },
    {
      "cell_type": "markdown",
      "metadata": {
        "id": "2saQOfMszaj-",
        "colab_type": "text"
      },
      "source": [
        "Write a program which, given the length of three sides of a triangle, will determine whether the triangle is right- angled. Assume that the third argument to the function is always the longest side. It will return True if the triangle is right-angled, or False otherwise."
      ]
    },
    {
      "cell_type": "code",
      "metadata": {
        "id": "mOLkC3MkzMWQ",
        "colab_type": "code",
        "colab": {}
      },
      "source": [
        "def checkValid(A, B, C):\n",
        "\n",
        "    if (A + B <= C) or (A + C <= B) or (B + C <= A):\n",
        "        return False\n",
        "    else:\n",
        "        return True\n",
        "\n",
        "\n",
        "A = float(input(\"side A: \"))\n",
        "B = float(input(\"side B: \"))\n",
        "C = float(input(\"side C: \"))\n",
        "\n",
        "if checkValid(A, B, C):\n",
        "    print(\"valid\")\n",
        "else:\n",
        "    print(\"invalid\")\n"
      ],
      "execution_count": 0,
      "outputs": []
    },
    {
      "cell_type": "markdown",
      "metadata": {
        "id": "MogfRC4zl_Ri",
        "colab_type": "text"
      },
      "source": [
        "# Problem 4"
      ]
    },
    {
      "cell_type": "markdown",
      "metadata": {
        "id": "WKKCkT__j-tu",
        "colab_type": "text"
      },
      "source": [
        "Write a program that uses a for loop to print (January to December)"
      ]
    },
    {
      "cell_type": "code",
      "metadata": {
        "id": "klIbSI-IzQY5",
        "colab_type": "code",
        "colab": {}
      },
      "source": [
        "for month in [\"January\", \"February\", \"March\", \"April\", \"May\", \"June\", \"July\", \"August\", \"September\", \"October\", \"November\", \"December\"]:\n",
        "    year = \"One of the months of the year is \" + month\n",
        "    print(year)\n"
      ],
      "execution_count": 0,
      "outputs": []
    },
    {
      "cell_type": "markdown",
      "metadata": {
        "id": "5wDRycGLl2Ly",
        "colab_type": "text"
      },
      "source": [
        "# Problem 5"
      ]
    },
    {
      "cell_type": "markdown",
      "metadata": {
        "id": "c_Ho9OLpkLNP",
        "colab_type": "text"
      },
      "source": [
        "Assume you have the assignment numbers = [12, 10, 32, 3, 66, 17, 42, 99, 20] \n",
        "\n",
        "---\n",
        "\n",
        "\n",
        "(a)Write a loop that adds all the numbers from the list into a variable called total. You should set the total variable to have the value 0 before you start adding them up, and print the value in total after the loop has completed. \n",
        "\n",
        "\n",
        "---\n",
        "\n",
        "\n",
        "(b)  Print the product of all the numbers in the \n",
        "list. (product means all multiplied together) "
      ]
    },
    {
      "cell_type": "code",
      "metadata": {
        "id": "kU5kEOKg0Zkg",
        "colab_type": "code",
        "colab": {}
      },
      "source": [
        "current_sum = 0\n",
        "current_prod = 1\n",
        "for number in [12, 10, 32, 3, 66, 17, 42, 99, 20]:\n",
        "  current_sum += number\n",
        "  current_prod *= number\n",
        "  print(current_sum, \"\\t\", current_prod)\n"
      ],
      "execution_count": 0,
      "outputs": []
    },
    {
      "cell_type": "markdown",
      "metadata": {
        "id": "Hw8UfL4gnBHn",
        "colab_type": "text"
      },
      "source": [
        "# Problem 6"
      ]
    },
    {
      "cell_type": "markdown",
      "metadata": {
        "id": "bkNinR43kbBj",
        "colab_type": "text"
      },
      "source": [
        "Use for loops to make a turtle draw these regular polygons (regular means all sides the same lengths,all angles the same): \n",
        "*   An equilateral triangle\n",
        "*   A hexagon(six sides)\n",
        "\n"
      ]
    },
    {
      "cell_type": "code",
      "metadata": {
        "id": "7aEP84uT0qcL",
        "colab_type": "code",
        "colab": {}
      },
      "source": [
        "import turtle\n",
        "window = turtle.Screen()\n",
        "lizzy = turtle.Turtle()\n",
        "lizzy.color(\"red\")\n",
        "lizzy.pensize(4)\n",
        "for i in range(3):\n",
        "    lizzy.forward(100)\n",
        "    lizzy.left(120)\n",
        "fred = turtle.Turtle()\n",
        "fred.pensize(2)\n",
        "for i in range(6):\n",
        "    fred.forward(150)\n",
        "    fred.right(60)\n",
        "\n",
        "\n",
        "window.mainloop()\n"
      ],
      "execution_count": 0,
      "outputs": []
    },
    {
      "cell_type": "markdown",
      "metadata": {
        "id": "YLyMUyzBnGcx",
        "colab_type": "text"
      },
      "source": [
        "# Problem 7"
      ]
    },
    {
      "cell_type": "markdown",
      "metadata": {
        "id": "DkIklafekyU8",
        "colab_type": "text"
      },
      "source": [
        "A drunk pirate makes a random turn and then takes 100 steps forward, makes another random turn, takes another 100 steps, turns another random amount, etc. A social science student records the angle of each turn before the next 100 steps are taken. Her experimental data is [160, -43, 270, -97, -43, 200, -940, 17, -86]. (Positive angles are counter-clockwise.) Use a turtle to draw the path taken by our drunk friend."
      ]
    },
    {
      "cell_type": "code",
      "metadata": {
        "id": "Kuiz0hwl00jS",
        "colab_type": "code",
        "colab": {}
      },
      "source": [
        "import turtle\n",
        "window = turtle.Screen()\n",
        "MrPirate = turtle.Turtle()\n",
        "MrPirate.pensize(6)\n",
        "MrPirate.forward(100)\n",
        "MrPirate.left(-160)\n",
        "MrPirate.forward(100)\n",
        "MrPirate.left(43)\n",
        "MrPirate.forward(100)\n",
        "MrPirate.left(-270)\n",
        "MrPirate.forward(100)\n",
        "MrPirate.left(97)\n",
        "MrPirate.forward(100)\n",
        "MrPirate.left(43)\n",
        "MrPirate.forward(100)\n",
        "MrPirate.left(-200)\n",
        "MrPirate.forward(100)\n",
        "MrPirate.left(940)\n",
        "MrPirate.forward(100)\n",
        "MrPirate.left(-17)\n",
        "MrPirate.forward(100)\n",
        "MrPirate.left(86)\n",
        "\n",
        "\n",
        "window.mainloop()"
      ],
      "execution_count": 0,
      "outputs": []
    },
    {
      "cell_type": "markdown",
      "metadata": {
        "id": "ZdEhIl0tlON1",
        "colab_type": "text"
      },
      "source": [
        "# Problem 8"
      ]
    },
    {
      "cell_type": "markdown",
      "metadata": {
        "id": "we4k_oYBk-MX",
        "colab_type": "text"
      },
      "source": [
        "Write a program that counts the number of even digits in the scope of 1—1000."
      ]
    },
    {
      "cell_type": "code",
      "metadata": {
        "id": "hIEMa9Ms05W-",
        "colab_type": "code",
        "colab": {}
      },
      "source": [
        "def num_even_digits(i):\n",
        "  count = 0\n",
        "  for number in range(1, 1000):\n",
        "    count += 1\n",
        "  return count\n",
        "\n",
        "\n",
        "print(num_even_digits(1000))\n"
      ],
      "execution_count": 0,
      "outputs": []
    }
  ]
}