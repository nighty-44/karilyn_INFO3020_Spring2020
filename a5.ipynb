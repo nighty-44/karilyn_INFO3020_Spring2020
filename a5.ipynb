{
  "nbformat": 4,
  "nbformat_minor": 0,
  "metadata": {
    "colab": {
      "name": "a5.ipynb",
      "provenance": [],
      "authorship_tag": "ABX9TyPLFZmMzIE3o2uL/hHb1/8A",
      "include_colab_link": true
    },
    "kernelspec": {
      "name": "python3",
      "display_name": "Python 3"
    }
  },
  "cells": [
    {
      "cell_type": "markdown",
      "metadata": {
        "id": "view-in-github",
        "colab_type": "text"
      },
      "source": [
        "<a href=\"https://colab.research.google.com/github/nighty-44/karilyn_INFO3020_Spring2020/blob/master/a5.ipynb\" target=\"_parent\"><img src=\"https://colab.research.google.com/assets/colab-badge.svg\" alt=\"Open In Colab\"/></a>"
      ]
    },
    {
      "cell_type": "markdown",
      "metadata": {
        "id": "gbmv9pCfe8z2",
        "colab_type": "text"
      },
      "source": [
        "# Assignment 1"
      ]
    },
    {
      "cell_type": "markdown",
      "metadata": {
        "id": "lLSPvGS5fAqj",
        "colab_type": "text"
      },
      "source": [
        "Use tuple to create a student data structure which could store every student’s student id, student name, and their courses they selected. \n",
        "\n",
        "There should be at least two courses. \n",
        "\n",
        "Write a function which could return the courses by the specific student’s name."
      ]
    },
    {
      "cell_type": "code",
      "metadata": {
        "id": "uCHupOOujS6c",
        "colab_type": "code",
        "colab": {}
      },
      "source": [
        "lily=(\"Lily\", \"02334\", [\"PoliSci\", \"TechComm\"])\n",
        "(name, id_num, courses)=lily\n",
        "jagger=(\"Jagger\", \"95871\", [\"AppliedStats\", \"TechComm\"])\n",
        "(name, id_num, courses)=jagger\n",
        "wendel=(\"Wendel\", \"27374\",[\"Typing\", \"TechComm\"])\n",
        "(name, id_num, courses)=wendel\n",
        "emmie=(\"Emmie\", \"17469\", [\"SignLang\", \"TechComm\"])\n",
        "(name, id_num, courses)=emmie\n",
        "\n",
        "print(lily[2])\n",
        "print(jagger[2])\n",
        "print(wendel[2])\n",
        "print(emmie[2])"
      ],
      "execution_count": 0,
      "outputs": []
    },
    {
      "cell_type": "markdown",
      "metadata": {
        "id": "Rios3Cb6fd3W",
        "colab_type": "text"
      },
      "source": [
        "# Assignment 2"
      ]
    },
    {
      "cell_type": "markdown",
      "metadata": {
        "id": "aRXk_b15fjvs",
        "colab_type": "text"
      },
      "source": [
        "1: write a function which could create a matrix which has n rows and m columns.\n",
        "\n",
        "2: fill the matrix with any data you want\n",
        "\n",
        "3: write another function which could return the index of any specific data\n",
        "\n",
        "4: if the specific data is not in the matrix, it returns -1,or returns the row and column where the data is in."
      ]
    },
    {
      "cell_type": "code",
      "metadata": {
        "id": "u266xrp3gFhH",
        "colab_type": "code",
        "colab": {
          "base_uri": "https://localhost:8080/",
          "height": 170
        },
        "outputId": "17bd98bf-e5e8-4fe2-bf88-cbd52262ed8e"
      },
      "source": [
        "nm=[[2,5,6],[9,3,7],[3,1,5]]\n",
        "\n",
        "for i in range(len(nm)):\n",
        "  for j in range(len(nm[0])):\n",
        "    print(nm[i][j])\n",
        "\n"
      ],
      "execution_count": 63,
      "outputs": [
        {
          "output_type": "stream",
          "text": [
            "2\n",
            "5\n",
            "6\n",
            "9\n",
            "3\n",
            "7\n",
            "3\n",
            "1\n",
            "5\n"
          ],
          "name": "stdout"
        }
      ]
    },
    {
      "cell_type": "markdown",
      "metadata": {
        "id": "9jHyTOaWgGwV",
        "colab_type": "text"
      },
      "source": [
        "# Assignment 3"
      ]
    },
    {
      "cell_type": "markdown",
      "metadata": {
        "id": "qe1oHZ7TgJgS",
        "colab_type": "text"
      },
      "source": [
        "Write a function which could return the frequency of occurrence of every word in one specific string or passage.\n",
        "\n",
        "The result should be stored as dictionary. \n",
        "\n",
        "Write another function which could list the content of dictionary."
      ]
    },
    {
      "cell_type": "code",
      "metadata": {
        "id": "nphHco1zzt3T",
        "colab_type": "code",
        "colab": {
          "base_uri": "https://localhost:8080/",
          "height": 130
        },
        "outputId": "d9c3e928-756c-4dbb-d091-9f5a6e31e1a1"
      },
      "source": [
        "def freq (str):\n",
        "  str = str.split()\n",
        "  str2 = []\n",
        "  for i in str:\n",
        "    if i not in str2:\n",
        "      str2.append(i)\n",
        "  for i in range(0, len(str2)):\n",
        "    print('frequency of', str2[i], 'is :', str.count(str2[i])\n",
        "\n",
        "def main():\n",
        "  str = \"no heart is so hard as the timid heart\"\n",
        "  freq(str)\n",
        "if __name__==\"__main__\":\n",
        "  main()"
      ],
      "execution_count": 71,
      "outputs": [
        {
          "output_type": "error",
          "ename": "SyntaxError",
          "evalue": "ignored",
          "traceback": [
            "\u001b[0;36m  File \u001b[0;32m\"<ipython-input-71-6af586a30766>\"\u001b[0;36m, line \u001b[0;32m10\u001b[0m\n\u001b[0;31m    def main():\u001b[0m\n\u001b[0m      ^\u001b[0m\n\u001b[0;31mSyntaxError\u001b[0m\u001b[0;31m:\u001b[0m invalid syntax\n"
          ]
        }
      ]
    }
  ]
}